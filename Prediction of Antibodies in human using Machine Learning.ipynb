{
 "cells": [
  {
   "cell_type": "code",
   "execution_count": 1,
   "id": "c096848a",
   "metadata": {},
   "outputs": [],
   "source": [
    "import numpy as np\n",
    "import pandas as pd\n",
    "import matplotlib.pyplot as plt\n",
    "import seaborn as sns"
   ]
  },
  {
   "cell_type": "code",
   "execution_count": 2,
   "id": "9b0e8018",
   "metadata": {},
   "outputs": [],
   "source": [
    "kk=pd.read_csv(' Covid_dataMultipleLinearRegr.csv')"
   ]
  },
  {
   "cell_type": "code",
   "execution_count": 3,
   "id": "b149afd1",
   "metadata": {},
   "outputs": [
    {
     "data": {
      "text/html": [
       "<div>\n",
       "<style scoped>\n",
       "    .dataframe tbody tr th:only-of-type {\n",
       "        vertical-align: middle;\n",
       "    }\n",
       "\n",
       "    .dataframe tbody tr th {\n",
       "        vertical-align: top;\n",
       "    }\n",
       "\n",
       "    .dataframe thead th {\n",
       "        text-align: right;\n",
       "    }\n",
       "</style>\n",
       "<table border=\"1\" class=\"dataframe\">\n",
       "  <thead>\n",
       "    <tr style=\"text-align: right;\">\n",
       "      <th></th>\n",
       "      <th>age</th>\n",
       "      <th>Body Temp</th>\n",
       "      <th>Chronic disease</th>\n",
       "      <th>Blood O2 Level in Percentage</th>\n",
       "      <th>Anti Bodies</th>\n",
       "    </tr>\n",
       "  </thead>\n",
       "  <tbody>\n",
       "    <tr>\n",
       "      <th>0</th>\n",
       "      <td>10</td>\n",
       "      <td>Moderate</td>\n",
       "      <td>0</td>\n",
       "      <td>97</td>\n",
       "      <td>127181</td>\n",
       "    </tr>\n",
       "    <tr>\n",
       "      <th>1</th>\n",
       "      <td>80</td>\n",
       "      <td>High</td>\n",
       "      <td>0</td>\n",
       "      <td>92</td>\n",
       "      <td>61004</td>\n",
       "    </tr>\n",
       "    <tr>\n",
       "      <th>2</th>\n",
       "      <td>10</td>\n",
       "      <td>Low</td>\n",
       "      <td>0</td>\n",
       "      <td>97</td>\n",
       "      <td>111911</td>\n",
       "    </tr>\n",
       "    <tr>\n",
       "      <th>3</th>\n",
       "      <td>81</td>\n",
       "      <td>High</td>\n",
       "      <td>4</td>\n",
       "      <td>75</td>\n",
       "      <td>39010</td>\n",
       "    </tr>\n",
       "    <tr>\n",
       "      <th>4</th>\n",
       "      <td>12</td>\n",
       "      <td>Moderate</td>\n",
       "      <td>0</td>\n",
       "      <td>97</td>\n",
       "      <td>110911</td>\n",
       "    </tr>\n",
       "    <tr>\n",
       "      <th>...</th>\n",
       "      <td>...</td>\n",
       "      <td>...</td>\n",
       "      <td>...</td>\n",
       "      <td>...</td>\n",
       "      <td>...</td>\n",
       "    </tr>\n",
       "    <tr>\n",
       "      <th>65</th>\n",
       "      <td>76</td>\n",
       "      <td>High</td>\n",
       "      <td>4</td>\n",
       "      <td>80</td>\n",
       "      <td>39010</td>\n",
       "    </tr>\n",
       "    <tr>\n",
       "      <th>66</th>\n",
       "      <td>35</td>\n",
       "      <td>Moderate</td>\n",
       "      <td>0</td>\n",
       "      <td>92</td>\n",
       "      <td>91141</td>\n",
       "    </tr>\n",
       "    <tr>\n",
       "      <th>67</th>\n",
       "      <td>13</td>\n",
       "      <td>Moderate</td>\n",
       "      <td>0</td>\n",
       "      <td>94</td>\n",
       "      <td>112101</td>\n",
       "    </tr>\n",
       "    <tr>\n",
       "      <th>68</th>\n",
       "      <td>82</td>\n",
       "      <td>High</td>\n",
       "      <td>3</td>\n",
       "      <td>73</td>\n",
       "      <td>42010</td>\n",
       "    </tr>\n",
       "    <tr>\n",
       "      <th>69</th>\n",
       "      <td>84</td>\n",
       "      <td>High</td>\n",
       "      <td>3</td>\n",
       "      <td>75</td>\n",
       "      <td>42099</td>\n",
       "    </tr>\n",
       "  </tbody>\n",
       "</table>\n",
       "<p>70 rows × 5 columns</p>\n",
       "</div>"
      ],
      "text/plain": [
       "    age Body Temp  Chronic disease  Blood O2 Level in Percentage  Anti Bodies\n",
       "0    10  Moderate                0                            97       127181\n",
       "1    80      High                0                            92        61004\n",
       "2    10       Low                0                            97       111911\n",
       "3    81      High                4                            75        39010\n",
       "4    12  Moderate                0                            97       110911\n",
       "..  ...       ...              ...                           ...          ...\n",
       "65   76      High                4                            80        39010\n",
       "66   35  Moderate                0                            92        91141\n",
       "67   13  Moderate                0                            94       112101\n",
       "68   82      High                3                            73        42010\n",
       "69   84      High                3                            75        42099\n",
       "\n",
       "[70 rows x 5 columns]"
      ]
     },
     "execution_count": 3,
     "metadata": {},
     "output_type": "execute_result"
    }
   ],
   "source": [
    "kk"
   ]
  },
  {
   "cell_type": "code",
   "execution_count": 4,
   "id": "547f8bc0",
   "metadata": {},
   "outputs": [
    {
     "data": {
      "text/html": [
       "<div>\n",
       "<style scoped>\n",
       "    .dataframe tbody tr th:only-of-type {\n",
       "        vertical-align: middle;\n",
       "    }\n",
       "\n",
       "    .dataframe tbody tr th {\n",
       "        vertical-align: top;\n",
       "    }\n",
       "\n",
       "    .dataframe thead th {\n",
       "        text-align: right;\n",
       "    }\n",
       "</style>\n",
       "<table border=\"1\" class=\"dataframe\">\n",
       "  <thead>\n",
       "    <tr style=\"text-align: right;\">\n",
       "      <th></th>\n",
       "      <th>age</th>\n",
       "      <th>Body Temp</th>\n",
       "      <th>Chronic disease</th>\n",
       "      <th>Blood O2 Level in Percentage</th>\n",
       "      <th>Anti Bodies</th>\n",
       "    </tr>\n",
       "  </thead>\n",
       "  <tbody>\n",
       "    <tr>\n",
       "      <th>0</th>\n",
       "      <td>10</td>\n",
       "      <td>Moderate</td>\n",
       "      <td>0</td>\n",
       "      <td>97</td>\n",
       "      <td>127181</td>\n",
       "    </tr>\n",
       "    <tr>\n",
       "      <th>1</th>\n",
       "      <td>80</td>\n",
       "      <td>High</td>\n",
       "      <td>0</td>\n",
       "      <td>92</td>\n",
       "      <td>61004</td>\n",
       "    </tr>\n",
       "    <tr>\n",
       "      <th>2</th>\n",
       "      <td>10</td>\n",
       "      <td>Low</td>\n",
       "      <td>0</td>\n",
       "      <td>97</td>\n",
       "      <td>111911</td>\n",
       "    </tr>\n",
       "    <tr>\n",
       "      <th>3</th>\n",
       "      <td>81</td>\n",
       "      <td>High</td>\n",
       "      <td>4</td>\n",
       "      <td>75</td>\n",
       "      <td>39010</td>\n",
       "    </tr>\n",
       "    <tr>\n",
       "      <th>4</th>\n",
       "      <td>12</td>\n",
       "      <td>Moderate</td>\n",
       "      <td>0</td>\n",
       "      <td>97</td>\n",
       "      <td>110911</td>\n",
       "    </tr>\n",
       "  </tbody>\n",
       "</table>\n",
       "</div>"
      ],
      "text/plain": [
       "   age Body Temp  Chronic disease  Blood O2 Level in Percentage  Anti Bodies\n",
       "0   10  Moderate                0                            97       127181\n",
       "1   80      High                0                            92        61004\n",
       "2   10       Low                0                            97       111911\n",
       "3   81      High                4                            75        39010\n",
       "4   12  Moderate                0                            97       110911"
      ]
     },
     "execution_count": 4,
     "metadata": {},
     "output_type": "execute_result"
    }
   ],
   "source": [
    "kk.head()"
   ]
  },
  {
   "cell_type": "code",
   "execution_count": 5,
   "id": "7b6cc018",
   "metadata": {},
   "outputs": [
    {
     "data": {
      "text/html": [
       "<div>\n",
       "<style scoped>\n",
       "    .dataframe tbody tr th:only-of-type {\n",
       "        vertical-align: middle;\n",
       "    }\n",
       "\n",
       "    .dataframe tbody tr th {\n",
       "        vertical-align: top;\n",
       "    }\n",
       "\n",
       "    .dataframe thead th {\n",
       "        text-align: right;\n",
       "    }\n",
       "</style>\n",
       "<table border=\"1\" class=\"dataframe\">\n",
       "  <thead>\n",
       "    <tr style=\"text-align: right;\">\n",
       "      <th></th>\n",
       "      <th>age</th>\n",
       "      <th>Body Temp</th>\n",
       "      <th>Chronic disease</th>\n",
       "      <th>Blood O2 Level in Percentage</th>\n",
       "      <th>Anti Bodies</th>\n",
       "    </tr>\n",
       "  </thead>\n",
       "  <tbody>\n",
       "    <tr>\n",
       "      <th>65</th>\n",
       "      <td>76</td>\n",
       "      <td>High</td>\n",
       "      <td>4</td>\n",
       "      <td>80</td>\n",
       "      <td>39010</td>\n",
       "    </tr>\n",
       "    <tr>\n",
       "      <th>66</th>\n",
       "      <td>35</td>\n",
       "      <td>Moderate</td>\n",
       "      <td>0</td>\n",
       "      <td>92</td>\n",
       "      <td>91141</td>\n",
       "    </tr>\n",
       "    <tr>\n",
       "      <th>67</th>\n",
       "      <td>13</td>\n",
       "      <td>Moderate</td>\n",
       "      <td>0</td>\n",
       "      <td>94</td>\n",
       "      <td>112101</td>\n",
       "    </tr>\n",
       "    <tr>\n",
       "      <th>68</th>\n",
       "      <td>82</td>\n",
       "      <td>High</td>\n",
       "      <td>3</td>\n",
       "      <td>73</td>\n",
       "      <td>42010</td>\n",
       "    </tr>\n",
       "    <tr>\n",
       "      <th>69</th>\n",
       "      <td>84</td>\n",
       "      <td>High</td>\n",
       "      <td>3</td>\n",
       "      <td>75</td>\n",
       "      <td>42099</td>\n",
       "    </tr>\n",
       "  </tbody>\n",
       "</table>\n",
       "</div>"
      ],
      "text/plain": [
       "    age Body Temp  Chronic disease  Blood O2 Level in Percentage  Anti Bodies\n",
       "65   76      High                4                            80        39010\n",
       "66   35  Moderate                0                            92        91141\n",
       "67   13  Moderate                0                            94       112101\n",
       "68   82      High                3                            73        42010\n",
       "69   84      High                3                            75        42099"
      ]
     },
     "execution_count": 5,
     "metadata": {},
     "output_type": "execute_result"
    }
   ],
   "source": [
    "kk.tail()"
   ]
  },
  {
   "cell_type": "code",
   "execution_count": 6,
   "id": "c6511a69",
   "metadata": {},
   "outputs": [
    {
     "data": {
      "text/html": [
       "<div>\n",
       "<style scoped>\n",
       "    .dataframe tbody tr th:only-of-type {\n",
       "        vertical-align: middle;\n",
       "    }\n",
       "\n",
       "    .dataframe tbody tr th {\n",
       "        vertical-align: top;\n",
       "    }\n",
       "\n",
       "    .dataframe thead th {\n",
       "        text-align: right;\n",
       "    }\n",
       "</style>\n",
       "<table border=\"1\" class=\"dataframe\">\n",
       "  <thead>\n",
       "    <tr style=\"text-align: right;\">\n",
       "      <th></th>\n",
       "      <th>age</th>\n",
       "      <th>Chronic disease</th>\n",
       "      <th>Blood O2 Level in Percentage</th>\n",
       "      <th>Anti Bodies</th>\n",
       "    </tr>\n",
       "  </thead>\n",
       "  <tbody>\n",
       "    <tr>\n",
       "      <th>count</th>\n",
       "      <td>70.000000</td>\n",
       "      <td>70.000000</td>\n",
       "      <td>70.000000</td>\n",
       "      <td>70.000000</td>\n",
       "    </tr>\n",
       "    <tr>\n",
       "      <th>mean</th>\n",
       "      <td>44.971429</td>\n",
       "      <td>0.800000</td>\n",
       "      <td>81.942857</td>\n",
       "      <td>78013.557143</td>\n",
       "    </tr>\n",
       "    <tr>\n",
       "      <th>std</th>\n",
       "      <td>24.084375</td>\n",
       "      <td>1.136993</td>\n",
       "      <td>11.991405</td>\n",
       "      <td>21919.557919</td>\n",
       "    </tr>\n",
       "    <tr>\n",
       "      <th>min</th>\n",
       "      <td>10.000000</td>\n",
       "      <td>0.000000</td>\n",
       "      <td>53.000000</td>\n",
       "      <td>37914.000000</td>\n",
       "    </tr>\n",
       "    <tr>\n",
       "      <th>25%</th>\n",
       "      <td>25.000000</td>\n",
       "      <td>0.000000</td>\n",
       "      <td>71.250000</td>\n",
       "      <td>61002.500000</td>\n",
       "    </tr>\n",
       "    <tr>\n",
       "      <th>50%</th>\n",
       "      <td>41.000000</td>\n",
       "      <td>0.000000</td>\n",
       "      <td>87.000000</td>\n",
       "      <td>80950.500000</td>\n",
       "    </tr>\n",
       "    <tr>\n",
       "      <th>75%</th>\n",
       "      <td>62.000000</td>\n",
       "      <td>1.000000</td>\n",
       "      <td>92.000000</td>\n",
       "      <td>95154.000000</td>\n",
       "    </tr>\n",
       "    <tr>\n",
       "      <th>max</th>\n",
       "      <td>94.000000</td>\n",
       "      <td>4.000000</td>\n",
       "      <td>99.000000</td>\n",
       "      <td>127181.000000</td>\n",
       "    </tr>\n",
       "  </tbody>\n",
       "</table>\n",
       "</div>"
      ],
      "text/plain": [
       "             age  Chronic disease  Blood O2 Level in Percentage    Anti Bodies\n",
       "count  70.000000        70.000000                     70.000000      70.000000\n",
       "mean   44.971429         0.800000                     81.942857   78013.557143\n",
       "std    24.084375         1.136993                     11.991405   21919.557919\n",
       "min    10.000000         0.000000                     53.000000   37914.000000\n",
       "25%    25.000000         0.000000                     71.250000   61002.500000\n",
       "50%    41.000000         0.000000                     87.000000   80950.500000\n",
       "75%    62.000000         1.000000                     92.000000   95154.000000\n",
       "max    94.000000         4.000000                     99.000000  127181.000000"
      ]
     },
     "execution_count": 6,
     "metadata": {},
     "output_type": "execute_result"
    }
   ],
   "source": [
    "kk.describe()"
   ]
  },
  {
   "cell_type": "code",
   "execution_count": 7,
   "id": "d5a2ed39",
   "metadata": {},
   "outputs": [
    {
     "name": "stdout",
     "output_type": "stream",
     "text": [
      "<class 'pandas.core.frame.DataFrame'>\n",
      "RangeIndex: 70 entries, 0 to 69\n",
      "Data columns (total 5 columns):\n",
      " #   Column                        Non-Null Count  Dtype \n",
      "---  ------                        --------------  ----- \n",
      " 0   age                           70 non-null     int64 \n",
      " 1   Body Temp                     70 non-null     object\n",
      " 2   Chronic disease               70 non-null     int64 \n",
      " 3   Blood O2 Level in Percentage  70 non-null     int64 \n",
      " 4   Anti Bodies                   70 non-null     int64 \n",
      "dtypes: int64(4), object(1)\n",
      "memory usage: 2.9+ KB\n"
     ]
    }
   ],
   "source": [
    "kk.info()"
   ]
  },
  {
   "cell_type": "code",
   "execution_count": 8,
   "id": "eedd08e4",
   "metadata": {},
   "outputs": [
    {
     "data": {
      "text/plain": [
       "Body Temp\n",
       "High        35\n",
       "Low          4\n",
       "Moderate    31\n",
       "dtype: int64"
      ]
     },
     "execution_count": 8,
     "metadata": {},
     "output_type": "execute_result"
    }
   ],
   "source": [
    "kk.groupby('Body Temp').size()"
   ]
  },
  {
   "cell_type": "code",
   "execution_count": 9,
   "id": "e5a4093a",
   "metadata": {},
   "outputs": [
    {
     "data": {
      "text/plain": [
       "age                             0\n",
       "Body Temp                       0\n",
       "Chronic disease                 0\n",
       "Blood O2 Level in Percentage    0\n",
       "Anti Bodies                     0\n",
       "dtype: int64"
      ]
     },
     "execution_count": 9,
     "metadata": {},
     "output_type": "execute_result"
    }
   ],
   "source": [
    "kk.isnull().sum()"
   ]
  },
  {
   "cell_type": "code",
   "execution_count": 10,
   "id": "104dd072",
   "metadata": {},
   "outputs": [
    {
     "data": {
      "text/plain": [
       "1"
      ]
     },
     "execution_count": 10,
     "metadata": {},
     "output_type": "execute_result"
    }
   ],
   "source": [
    "kk.duplicated().sum()"
   ]
  },
  {
   "cell_type": "code",
   "execution_count": 11,
   "id": "a6137acc",
   "metadata": {},
   "outputs": [],
   "source": [
    "kk.drop_duplicates(inplace=True)"
   ]
  },
  {
   "cell_type": "code",
   "execution_count": 12,
   "id": "6a04645e",
   "metadata": {},
   "outputs": [
    {
     "data": {
      "text/plain": [
       "0"
      ]
     },
     "execution_count": 12,
     "metadata": {},
     "output_type": "execute_result"
    }
   ],
   "source": [
    "kk.duplicated().sum()"
   ]
  },
  {
   "cell_type": "code",
   "execution_count": 13,
   "id": "7166ec58",
   "metadata": {},
   "outputs": [
    {
     "data": {
      "image/png": "[encoded data removed]",
      "text/plain": [
       "<Figure size 500x500 with 1 Axes>"
      ]
     },
     "metadata": {},
     "output_type": "display_data"
    },
    {
     "data": {
      "image/png": "[encoded data removed]",
      "text/plain": [
       "<Figure size 500x500 with 1 Axes>"
      ]
     },
     "metadata": {},
     "output_type": "display_data"
    },
    {
     "data": {
      "image/png": "[encoded data removed]",
      "text/plain": [
       "<Figure size 500x500 with 1 Axes>"
      ]
     },
     "metadata": {},
     "output_type": "display_data"
    },
    {
     "data": {
      "image/png": "[encoded data removed]",
      "text/plain": [
       "<Figure size 500x500 with 1 Axes>"
      ]
     },
     "metadata": {},
     "output_type": "display_data"
    },
    {
     "data": {
      "image/png": "[encoded data removed]",
      "text/plain": [
       "<Figure size 500x500 with 1 Axes>"
      ]
     },
     "metadata": {},
     "output_type": "display_data"
    }
   ],
   "source": [
    "#creating for loop to get the distributon plot for all columns\n",
    "for columns in kk:\n",
    "    sns.displot(x=columns,data=kk)"
   ]
  },
  {
   "cell_type": "code",
   "execution_count": 14,
   "id": "3bb87062",
   "metadata": {},
   "outputs": [
    {
     "data": {
      "text/plain": [
       "<AxesSubplot:xlabel='Body Temp', ylabel='count'>"
      ]
     },
     "execution_count": 14,
     "metadata": {},
     "output_type": "execute_result"
    }
   ],
   "source": [
    "sns.countplot(x='Body Temp',data=kk)"
   ]
  },
  {
   "cell_type": "code",
   "execution_count": 15,
   "id": "225018b7",
   "metadata": {},
   "outputs": [
    {
     "data": {
      "text/plain": [
       "<seaborn.axisgrid.PairGrid at 0x7fcb655d11c0>"
      ]
     },
     "execution_count": 15,
     "metadata": {},
     "output_type": "execute_result"
    }
   ],
   "source": [
    "sns.pairplot(data=kk)"
   ]
  },
  {
   "cell_type": "code",
   "execution_count": 16,
   "id": "92644273",
   "metadata": {},
   "outputs": [
    {
     "data": {
      "text/plain": [
       "<AxesSubplot:>"
      ]
     },
     "execution_count": 16,
     "metadata": {},
     "output_type": "execute_result"
    }
   ],
   "source": [
    "plt.figure(figsize=(30,30))\n",
    "sns.heatmap(kk.corr(),cbar=True,square=True,fmt='.1f', annot=True,annot_kws={'size':8},cmap='Reds')"
   ]
  },
  {
   "cell_type": "code",
   "execution_count": 17,
   "id": "dd0253e5",
   "metadata": {},
   "outputs": [
    {
     "data": {
      "text/plain": [
       "<AxesSubplot:xlabel='Blood O2 Level in Percentage', ylabel='Anti Bodies'>"
      ]
     },
     "execution_count": 17,
     "metadata": {},
     "output_type": "execute_result"
    }
   ],
   "source": [
    "#Bivariate analysis\n",
    "#Barplot\n",
    "sns.barplot(y='Anti Bodies',x='Blood O2 Level in Percentage',data=kk)"
   ]
  },
  {
   "cell_type": "code",
   "execution_count": 18,
   "id": "e596c434",
   "metadata": {},
   "outputs": [
    {
     "data": {
      "text/plain": [
       "<AxesSubplot:xlabel='Blood O2 Level in Percentage', ylabel='Anti Bodies'>"
      ]
     },
     "execution_count": 18,
     "metadata": {},
     "output_type": "execute_result"
    }
   ],
   "source": [
    "sns.regplot(y='Anti Bodies',x='Blood O2 Level in Percentage',data=kk)"
   ]
  },
  {
   "cell_type": "code",
   "execution_count": 19,
   "id": "16387927",
   "metadata": {},
   "outputs": [
    {
     "data": {
      "text/plain": [
       "<AxesSubplot:xlabel='Body Temp', ylabel='Anti Bodies'>"
      ]
     },
     "execution_count": 19,
     "metadata": {},
     "output_type": "execute_result"
    }
   ],
   "source": [
    "sns.barplot(y='Anti Bodies',x='Body Temp',data=kk)"
   ]
  },
  {
   "cell_type": "code",
   "execution_count": 20,
   "id": "dc897015",
   "metadata": {},
   "outputs": [
    {
     "data": {
      "text/plain": [
       "<AxesSubplot:xlabel='age', ylabel='Anti Bodies'>"
      ]
     },
     "execution_count": 20,
     "metadata": {},
     "output_type": "execute_result"
    }
   ],
   "source": [
    "sns.barplot(y='Anti Bodies',x='age',data=kk)"
   ]
  },
  {
   "cell_type": "code",
   "execution_count": 21,
   "id": "6a795617",
   "metadata": {},
   "outputs": [
    {
     "data": {
      "text/plain": [
       "<AxesSubplot:xlabel='Chronic disease', ylabel='Anti Bodies'>"
      ]
     },
     "execution_count": 21,
     "metadata": {},
     "output_type": "execute_result"
    }
   ],
   "source": [
    "sns.barplot(y='Anti Bodies',x='Chronic disease',data=kk)"
   ]
  },
  {
   "cell_type": "code",
   "execution_count": 22,
   "id": "4e8bdded",
   "metadata": {},
   "outputs": [],
   "source": [
    "#Encoding Categorical \n",
    "kk=pd.get_dummies(kk,prefix=['temperature'],columns=['Body Temp'])"
   ]
  },
  {
   "cell_type": "code",
   "execution_count": 23,
   "id": "7fa2834c",
   "metadata": {},
   "outputs": [
    {
     "data": {
      "text/html": [
       "<div>\n",
       "<style scoped>\n",
       "    .dataframe tbody tr th:only-of-type {\n",
       "        vertical-align: middle;\n",
       "    }\n",
       "\n",
       "    .dataframe tbody tr th {\n",
       "        vertical-align: top;\n",
       "    }\n",
       "\n",
       "    .dataframe thead th {\n",
       "        text-align: right;\n",
       "    }\n",
       "</style>\n",
       "<table border=\"1\" class=\"dataframe\">\n",
       "  <thead>\n",
       "    <tr style=\"text-align: right;\">\n",
       "      <th></th>\n",
       "      <th>age</th>\n",
       "      <th>Chronic disease</th>\n",
       "      <th>Blood O2 Level in Percentage</th>\n",
       "      <th>Anti Bodies</th>\n",
       "      <th>temperature_High</th>\n",
       "      <th>temperature_Low</th>\n",
       "      <th>temperature_Moderate</th>\n",
       "    </tr>\n",
       "  </thead>\n",
       "  <tbody>\n",
       "    <tr>\n",
       "      <th>0</th>\n",
       "      <td>10</td>\n",
       "      <td>0</td>\n",
       "      <td>97</td>\n",
       "      <td>127181</td>\n",
       "      <td>0</td>\n",
       "      <td>0</td>\n",
       "      <td>1</td>\n",
       "    </tr>\n",
       "    <tr>\n",
       "      <th>1</th>\n",
       "      <td>80</td>\n",
       "      <td>0</td>\n",
       "      <td>92</td>\n",
       "      <td>61004</td>\n",
       "      <td>1</td>\n",
       "      <td>0</td>\n",
       "      <td>0</td>\n",
       "    </tr>\n",
       "    <tr>\n",
       "      <th>2</th>\n",
       "      <td>10</td>\n",
       "      <td>0</td>\n",
       "      <td>97</td>\n",
       "      <td>111911</td>\n",
       "      <td>0</td>\n",
       "      <td>1</td>\n",
       "      <td>0</td>\n",
       "    </tr>\n",
       "    <tr>\n",
       "      <th>3</th>\n",
       "      <td>81</td>\n",
       "      <td>4</td>\n",
       "      <td>75</td>\n",
       "      <td>39010</td>\n",
       "      <td>1</td>\n",
       "      <td>0</td>\n",
       "      <td>0</td>\n",
       "    </tr>\n",
       "    <tr>\n",
       "      <th>4</th>\n",
       "      <td>12</td>\n",
       "      <td>0</td>\n",
       "      <td>97</td>\n",
       "      <td>110911</td>\n",
       "      <td>0</td>\n",
       "      <td>0</td>\n",
       "      <td>1</td>\n",
       "    </tr>\n",
       "    <tr>\n",
       "      <th>...</th>\n",
       "      <td>...</td>\n",
       "      <td>...</td>\n",
       "      <td>...</td>\n",
       "      <td>...</td>\n",
       "      <td>...</td>\n",
       "      <td>...</td>\n",
       "      <td>...</td>\n",
       "    </tr>\n",
       "    <tr>\n",
       "      <th>65</th>\n",
       "      <td>76</td>\n",
       "      <td>4</td>\n",
       "      <td>80</td>\n",
       "      <td>39010</td>\n",
       "      <td>1</td>\n",
       "      <td>0</td>\n",
       "      <td>0</td>\n",
       "    </tr>\n",
       "    <tr>\n",
       "      <th>66</th>\n",
       "      <td>35</td>\n",
       "      <td>0</td>\n",
       "      <td>92</td>\n",
       "      <td>91141</td>\n",
       "      <td>0</td>\n",
       "      <td>0</td>\n",
       "      <td>1</td>\n",
       "    </tr>\n",
       "    <tr>\n",
       "      <th>67</th>\n",
       "      <td>13</td>\n",
       "      <td>0</td>\n",
       "      <td>94</td>\n",
       "      <td>112101</td>\n",
       "      <td>0</td>\n",
       "      <td>0</td>\n",
       "      <td>1</td>\n",
       "    </tr>\n",
       "    <tr>\n",
       "      <th>68</th>\n",
       "      <td>82</td>\n",
       "      <td>3</td>\n",
       "      <td>73</td>\n",
       "      <td>42010</td>\n",
       "      <td>1</td>\n",
       "      <td>0</td>\n",
       "      <td>0</td>\n",
       "    </tr>\n",
       "    <tr>\n",
       "      <th>69</th>\n",
       "      <td>84</td>\n",
       "      <td>3</td>\n",
       "      <td>75</td>\n",
       "      <td>42099</td>\n",
       "      <td>1</td>\n",
       "      <td>0</td>\n",
       "      <td>0</td>\n",
       "    </tr>\n",
       "  </tbody>\n",
       "</table>\n",
       "<p>69 rows × 7 columns</p>\n",
       "</div>"
      ],
      "text/plain": [
       "    age  Chronic disease  Blood O2 Level in Percentage  Anti Bodies  \\\n",
       "0    10                0                            97       127181   \n",
       "1    80                0                            92        61004   \n",
       "2    10                0                            97       111911   \n",
       "3    81                4                            75        39010   \n",
       "4    12                0                            97       110911   \n",
       "..  ...              ...                           ...          ...   \n",
       "65   76                4                            80        39010   \n",
       "66   35                0                            92        91141   \n",
       "67   13                0                            94       112101   \n",
       "68   82                3                            73        42010   \n",
       "69   84                3                            75        42099   \n",
       "\n",
       "    temperature_High  temperature_Low  temperature_Moderate  \n",
       "0                  0                0                     1  \n",
       "1                  1                0                     0  \n",
       "2                  0                1                     0  \n",
       "3                  1                0                     0  \n",
       "4                  0                0                     1  \n",
       "..               ...              ...                   ...  \n",
       "65                 1                0                     0  \n",
       "66                 0                0                     1  \n",
       "67                 0                0                     1  \n",
       "68                 1                0                     0  \n",
       "69                 1                0                     0  \n",
       "\n",
       "[69 rows x 7 columns]"
      ]
     },
     "execution_count": 23,
     "metadata": {},
     "output_type": "execute_result"
    }
   ],
   "source": [
    "kk"
   ]
  },
  {
   "cell_type": "code",
   "execution_count": 24,
   "id": "52d7c73b",
   "metadata": {},
   "outputs": [],
   "source": [
    "#Divide data in two parts for training and testing the model\n",
    "X=kk.drop(['Anti Bodies'],axis=1)\n",
    "Y=kk['Anti Bodies']"
   ]
  },
  {
   "cell_type": "code",
   "execution_count": 25,
   "id": "91dbc893",
   "metadata": {},
   "outputs": [
    {
     "data": {
      "text/plain": [
       "(    age  Chronic disease  Blood O2 Level in Percentage  temperature_High  \\\n",
       " 0    10                0                            97                 0   \n",
       " 1    80                0                            92                 1   \n",
       " 2    10                0                            97                 0   \n",
       " 3    81                4                            75                 1   \n",
       " 4    12                0                            97                 0   \n",
       " ..  ...              ...                           ...               ...   \n",
       " 65   76                4                            80                 1   \n",
       " 66   35                0                            92                 0   \n",
       " 67   13                0                            94                 0   \n",
       " 68   82                3                            73                 1   \n",
       " 69   84                3                            75                 1   \n",
       " \n",
       "     temperature_Low  temperature_Moderate  \n",
       " 0                 0                     1  \n",
       " 1                 0                     0  \n",
       " 2                 1                     0  \n",
       " 3                 0                     0  \n",
       " 4                 0                     1  \n",
       " ..              ...                   ...  \n",
       " 65                0                     0  \n",
       " 66                0                     1  \n",
       " 67                0                     1  \n",
       " 68                0                     0  \n",
       " 69                0                     0  \n",
       " \n",
       " [69 rows x 6 columns],\n",
       " 0     127181\n",
       " 1      61004\n",
       " 2     111911\n",
       " 3      39010\n",
       " 4     110911\n",
       "        ...  \n",
       " 65     39010\n",
       " 66     91141\n",
       " 67    112101\n",
       " 68     42010\n",
       " 69     42099\n",
       " Name: Anti Bodies, Length: 69, dtype: int64)"
      ]
     },
     "execution_count": 25,
     "metadata": {},
     "output_type": "execute_result"
    }
   ],
   "source": [
    "X,Y"
   ]
  },
  {
   "cell_type": "markdown",
   "id": "6d91f0f9",
   "metadata": {},
   "source": [
    "## Normalization of data"
   ]
  },
  {
   "cell_type": "code",
   "execution_count": 26,
   "id": "a8541457",
   "metadata": {},
   "outputs": [],
   "source": [
    "#scale the feature from MinMaxScaler\n",
    "from sklearn.preprocessing import MinMaxScaler\n",
    "scaler=MinMaxScaler()\n",
    "Xs=scaler.fit_transform(X)"
   ]
  },
  {
   "cell_type": "code",
   "execution_count": 27,
   "id": "2b9812cc",
   "metadata": {},
   "outputs": [
    {
     "data": {
      "text/plain": [
       "array([[0.        , 0.        , 0.95652174, 0.        , 0.        ,\n",
       "        1.        ],\n",
       "       [0.83333333, 0.        , 0.84782609, 1.        , 0.        ,\n",
       "        0.        ],\n",
       "       [0.        , 0.        , 0.95652174, 0.        , 1.        ,\n",
       "        0.        ],\n",
       "       [0.8452381 , 1.        , 0.47826087, 1.        , 0.        ,\n",
       "        0.        ],\n",
       "       [0.02380952, 0.        , 0.95652174, 0.        , 0.        ,\n",
       "        1.        ],\n",
       "       [0.0952381 , 0.        , 0.2826087 , 0.        , 1.        ,\n",
       "        0.        ],\n",
       "       [0.03571429, 0.        , 0.86956522, 0.        , 0.        ,\n",
       "        1.        ],\n",
       "       [1.        , 1.        , 0.23913043, 1.        , 0.        ,\n",
       "        0.        ],\n",
       "       [0.9047619 , 0.5       , 0.5       , 1.        , 0.        ,\n",
       "        0.        ],\n",
       "       [0.11904762, 0.        , 0.84782609, 0.        , 0.        ,\n",
       "        1.        ],\n",
       "       [0.05952381, 0.        , 0.89130435, 0.        , 0.        ,\n",
       "        1.        ],\n",
       "       [0.05952381, 0.        , 0.84782609, 0.        , 0.        ,\n",
       "        1.        ],\n",
       "       [0.07142857, 0.        , 0.84782609, 0.        , 1.        ,\n",
       "        0.        ],\n",
       "       [0.08333333, 0.        , 0.86956522, 0.        , 0.        ,\n",
       "        1.        ],\n",
       "       [0.0952381 , 0.        , 0.86956522, 0.        , 0.        ,\n",
       "        1.        ],\n",
       "       [0.10714286, 0.        , 0.84782609, 0.        , 0.        ,\n",
       "        1.        ],\n",
       "       [0.10714286, 0.        , 0.7826087 , 0.        , 0.        ,\n",
       "        1.        ],\n",
       "       [0.11904762, 0.        , 0.86956522, 0.        , 0.        ,\n",
       "        1.        ],\n",
       "       [0.16666667, 0.        , 0.84782609, 0.        , 0.        ,\n",
       "        1.        ],\n",
       "       [0.17857143, 0.        , 0.86956522, 0.        , 0.        ,\n",
       "        1.        ],\n",
       "       [0.58333333, 0.5       , 0.32608696, 1.        , 0.        ,\n",
       "        0.        ],\n",
       "       [0.63095238, 0.25      , 0.2826087 , 1.        , 0.        ,\n",
       "        0.        ],\n",
       "       [0.17857143, 0.25      , 0.19565217, 0.        , 0.        ,\n",
       "        1.        ],\n",
       "       [0.19047619, 0.        , 0.89130435, 1.        , 0.        ,\n",
       "        0.        ],\n",
       "       [0.19047619, 0.        , 0.95652174, 0.        , 1.        ,\n",
       "        0.        ],\n",
       "       [0.21428571, 0.        , 1.        , 0.        , 0.        ,\n",
       "        1.        ],\n",
       "       [0.58333333, 0.        , 0.34782609, 1.        , 0.        ,\n",
       "        0.        ],\n",
       "       [0.21428571, 0.        , 0.7826087 , 0.        , 0.        ,\n",
       "        1.        ],\n",
       "       [0.22619048, 0.        , 0.86956522, 0.        , 0.        ,\n",
       "        1.        ],\n",
       "       [0.45238095, 0.        , 0.86956522, 0.        , 0.        ,\n",
       "        1.        ],\n",
       "       [0.23809524, 0.        , 0.19565217, 0.        , 0.        ,\n",
       "        1.        ],\n",
       "       [0.23809524, 0.        , 0.7173913 , 0.        , 0.        ,\n",
       "        1.        ],\n",
       "       [0.26190476, 0.        , 0.67391304, 0.        , 0.        ,\n",
       "        1.        ],\n",
       "       [0.28571429, 0.25      , 0.80434783, 0.        , 0.        ,\n",
       "        1.        ],\n",
       "       [0.29761905, 0.        , 0.7826087 , 0.        , 0.        ,\n",
       "        1.        ],\n",
       "       [0.47619048, 0.5       , 0.52173913, 1.        , 0.        ,\n",
       "        0.        ],\n",
       "       [0.54761905, 0.5       , 0.5       , 1.        , 0.        ,\n",
       "        0.        ],\n",
       "       [0.54761905, 0.25      , 0.52173913, 1.        , 0.        ,\n",
       "        0.        ],\n",
       "       [0.30952381, 0.25      , 0.80434783, 1.        , 0.        ,\n",
       "        0.        ],\n",
       "       [0.33333333, 0.5       , 0.47826087, 1.        , 0.        ,\n",
       "        0.        ],\n",
       "       [0.35714286, 0.        , 0.80434783, 0.        , 0.        ,\n",
       "        1.        ],\n",
       "       [0.35714286, 0.        , 0.84782609, 1.        , 0.        ,\n",
       "        0.        ],\n",
       "       [0.60714286, 0.5       , 0.5       , 1.        , 0.        ,\n",
       "        0.        ],\n",
       "       [0.38095238, 0.        , 0.84782609, 1.        , 0.        ,\n",
       "        0.        ],\n",
       "       [0.42857143, 0.        , 0.82608696, 1.        , 0.        ,\n",
       "        0.        ],\n",
       "       [0.46428571, 0.        , 0.58695652, 0.        , 0.        ,\n",
       "        1.        ],\n",
       "       [0.5       , 0.25      , 0.58695652, 1.        , 0.        ,\n",
       "        0.        ],\n",
       "       [0.26190476, 0.        , 0.7826087 , 0.        , 0.        ,\n",
       "        1.        ],\n",
       "       [0.51190476, 0.25      , 0.04347826, 1.        , 0.        ,\n",
       "        0.        ],\n",
       "       [0.52380952, 0.25      , 0.36956522, 1.        , 0.        ,\n",
       "        0.        ],\n",
       "       [0.95238095, 0.75      , 0.30434783, 1.        , 0.        ,\n",
       "        0.        ],\n",
       "       [0.80952381, 0.5       , 0.39130435, 1.        , 0.        ,\n",
       "        0.        ],\n",
       "       [0.57142857, 0.        , 0.36956522, 1.        , 0.        ,\n",
       "        0.        ],\n",
       "       [0.5952381 , 0.25      , 0.32608696, 1.        , 0.        ,\n",
       "        0.        ],\n",
       "       [0.60714286, 0.        , 0.80434783, 0.        , 0.        ,\n",
       "        1.        ],\n",
       "       [0.61904762, 0.25      , 0.32608696, 1.        , 0.        ,\n",
       "        0.        ],\n",
       "       [0.9047619 , 0.75      , 0.39130435, 1.        , 0.        ,\n",
       "        0.        ],\n",
       "       [0.61904762, 0.5       , 0.34782609, 1.        , 0.        ,\n",
       "        0.        ],\n",
       "       [0.64285714, 0.25      , 0.43478261, 1.        , 0.        ,\n",
       "        0.        ],\n",
       "       [0.69047619, 0.25      , 0.30434783, 1.        , 0.        ,\n",
       "        0.        ],\n",
       "       [0.70238095, 0.        , 0.        , 1.        , 0.        ,\n",
       "        0.        ],\n",
       "       [0.71428571, 0.25      , 0.76086957, 0.        , 0.        ,\n",
       "        1.        ],\n",
       "       [0.76190476, 0.5       , 0.47826087, 1.        , 0.        ,\n",
       "        0.        ],\n",
       "       [0.77380952, 0.25      , 0.41304348, 1.        , 0.        ,\n",
       "        0.        ],\n",
       "       [0.78571429, 1.        , 0.58695652, 1.        , 0.        ,\n",
       "        0.        ],\n",
       "       [0.29761905, 0.        , 0.84782609, 0.        , 0.        ,\n",
       "        1.        ],\n",
       "       [0.03571429, 0.        , 0.89130435, 0.        , 0.        ,\n",
       "        1.        ],\n",
       "       [0.85714286, 0.75      , 0.43478261, 1.        , 0.        ,\n",
       "        0.        ],\n",
       "       [0.88095238, 0.75      , 0.47826087, 1.        , 0.        ,\n",
       "        0.        ]])"
      ]
     },
     "execution_count": 27,
     "metadata": {},
     "output_type": "execute_result"
    }
   ],
   "source": [
    "Xs"
   ]
  },
  {
   "cell_type": "code",
   "execution_count": 28,
   "id": "9446dec6",
   "metadata": {},
   "outputs": [],
   "source": [
    "from sklearn.preprocessing import StandardScaler\n",
    "scalers=StandardScaler()\n"
   ]
  },
  {
   "cell_type": "code",
   "execution_count": 29,
   "id": "a0b296d0",
   "metadata": {},
   "outputs": [],
   "source": [
    "Xs=scalers.fit_transform(Xs)"
   ]
  },
  {
   "cell_type": "code",
   "execution_count": 30,
   "id": "df3b40e1",
   "metadata": {},
   "outputs": [
    {
     "data": {
      "text/plain": [
       "array([[-1.4925865 , -0.71641954,  1.28888615, -1.01459931, -0.24806947,\n",
       "         1.14017543],\n",
       "       [ 1.45475315, -0.71641954,  0.86700217,  0.98561076, -0.24806947,\n",
       "        -0.87705802],\n",
       "       [-1.4925865 , -0.71641954,  1.28888615, -1.01459931,  4.03112887,\n",
       "        -0.87705802],\n",
       "       [ 1.496858  ,  2.81450533, -0.56740339,  0.98561076, -0.24806947,\n",
       "        -0.87705802],\n",
       "       [-1.40837679, -0.71641954,  1.28888615, -1.01459931, -0.24806947,\n",
       "         1.14017543],\n",
       "       [-1.15574768, -0.71641954, -1.32679457, -1.01459931,  4.03112887,\n",
       "        -0.87705802],\n",
       "       [-1.36627194, -0.71641954,  0.95137896, -1.01459931, -0.24806947,\n",
       "         1.14017543],\n",
       "       [ 2.04422108,  2.81450533, -1.49554817,  0.98561076, -0.24806947,\n",
       "        -0.87705802],\n",
       "       [ 1.70738226,  1.0490429 , -0.48302659,  0.98561076, -0.24806947,\n",
       "        -0.87705802],\n",
       "       [-1.07153797, -0.71641954,  0.86700217, -1.01459931, -0.24806947,\n",
       "         1.14017543],\n",
       "       [-1.28206224, -0.71641954,  1.03575576, -1.01459931, -0.24806947,\n",
       "         1.14017543],\n",
       "       [-1.28206224, -0.71641954,  0.86700217, -1.01459931, -0.24806947,\n",
       "         1.14017543],\n",
       "       [-1.23995738, -0.71641954,  0.86700217, -1.01459931,  4.03112887,\n",
       "        -0.87705802],\n",
       "       [-1.19785253, -0.71641954,  0.95137896, -1.01459931, -0.24806947,\n",
       "         1.14017543],\n",
       "       [-1.15574768, -0.71641954,  0.95137896, -1.01459931, -0.24806947,\n",
       "         1.14017543],\n",
       "       [-1.11364283, -0.71641954,  0.86700217, -1.01459931, -0.24806947,\n",
       "         1.14017543],\n",
       "       [-1.11364283, -0.71641954,  0.61387177, -1.01459931, -0.24806947,\n",
       "         1.14017543],\n",
       "       [-1.07153797, -0.71641954,  0.95137896, -1.01459931, -0.24806947,\n",
       "         1.14017543],\n",
       "       [-0.90311857, -0.71641954,  0.86700217, -1.01459931, -0.24806947,\n",
       "         1.14017543],\n",
       "       [-0.86101371, -0.71641954,  0.95137896, -1.01459931, -0.24806947,\n",
       "         1.14017543],\n",
       "       [ 0.57055126,  1.0490429 , -1.15804097,  0.98561076, -0.24806947,\n",
       "        -0.87705802],\n",
       "       [ 0.73897066,  0.16631168, -1.32679457,  0.98561076, -0.24806947,\n",
       "        -0.87705802],\n",
       "       [-0.86101371,  0.16631168, -1.66430176, -1.01459931, -0.24806947,\n",
       "         1.14017543],\n",
       "       [-0.81890886, -0.71641954,  1.03575576,  0.98561076, -0.24806947,\n",
       "        -0.87705802],\n",
       "       [-0.81890886, -0.71641954,  1.28888615, -1.01459931,  4.03112887,\n",
       "        -0.87705802],\n",
       "       [-0.73469916, -0.71641954,  1.45763975, -1.01459931, -0.24806947,\n",
       "         1.14017543],\n",
       "       [ 0.57055126, -0.71641954, -1.07366418,  0.98561076, -0.24806947,\n",
       "        -0.87705802],\n",
       "       [-0.73469916, -0.71641954,  0.61387177, -1.01459931, -0.24806947,\n",
       "         1.14017543],\n",
       "       [-0.69259431, -0.71641954,  0.95137896, -1.01459931, -0.24806947,\n",
       "         1.14017543],\n",
       "       [ 0.10739788, -0.71641954,  0.95137896, -1.01459931, -0.24806947,\n",
       "         1.14017543],\n",
       "       [-0.65048945, -0.71641954, -1.66430176, -1.01459931, -0.24806947,\n",
       "         1.14017543],\n",
       "       [-0.65048945, -0.71641954,  0.36074138, -1.01459931, -0.24806947,\n",
       "         1.14017543],\n",
       "       [-0.56627975, -0.71641954,  0.19198779, -1.01459931, -0.24806947,\n",
       "         1.14017543],\n",
       "       [-0.48207005,  0.16631168,  0.69824857, -1.01459931, -0.24806947,\n",
       "         1.14017543],\n",
       "       [-0.43996519, -0.71641954,  0.61387177, -1.01459931, -0.24806947,\n",
       "         1.14017543],\n",
       "       [ 0.19160759,  1.0490429 , -0.3986498 ,  0.98561076, -0.24806947,\n",
       "        -0.87705802],\n",
       "       [ 0.4442367 ,  1.0490429 , -0.48302659,  0.98561076, -0.24806947,\n",
       "        -0.87705802],\n",
       "       [ 0.4442367 ,  0.16631168, -0.3986498 ,  0.98561076, -0.24806947,\n",
       "        -0.87705802],\n",
       "       [-0.39786034,  0.16631168,  0.69824857,  0.98561076, -0.24806947,\n",
       "        -0.87705802],\n",
       "       [-0.31365064,  1.0490429 , -0.56740339,  0.98561076, -0.24806947,\n",
       "        -0.87705802],\n",
       "       [-0.22944093, -0.71641954,  0.69824857, -1.01459931, -0.24806947,\n",
       "         1.14017543],\n",
       "       [-0.22944093, -0.71641954,  0.86700217,  0.98561076, -0.24806947,\n",
       "        -0.87705802],\n",
       "       [ 0.65476096,  1.0490429 , -0.48302659,  0.98561076, -0.24806947,\n",
       "        -0.87705802],\n",
       "       [-0.14523123, -0.71641954,  0.86700217,  0.98561076, -0.24806947,\n",
       "        -0.87705802],\n",
       "       [ 0.02318818, -0.71641954,  0.78262537,  0.98561076, -0.24806947,\n",
       "        -0.87705802],\n",
       "       [ 0.14950274, -0.71641954, -0.1455194 , -1.01459931, -0.24806947,\n",
       "         1.14017543],\n",
       "       [ 0.27581729,  0.16631168, -0.1455194 ,  0.98561076, -0.24806947,\n",
       "        -0.87705802],\n",
       "       [-0.56627975, -0.71641954,  0.61387177, -1.01459931, -0.24806947,\n",
       "         1.14017543],\n",
       "       [ 0.31792214,  0.16631168, -2.25493934,  0.98561076, -0.24806947,\n",
       "        -0.87705802],\n",
       "       [ 0.360027  ,  0.16631168, -0.98928738,  0.98561076, -0.24806947,\n",
       "        -0.87705802],\n",
       "       [ 1.87580167,  1.93177411, -1.24241777,  0.98561076, -0.24806947,\n",
       "        -0.87705802],\n",
       "       [ 1.37054345,  1.0490429 , -0.90491058,  0.98561076, -0.24806947,\n",
       "        -0.87705802],\n",
       "       [ 0.5284464 , -0.71641954, -0.98928738,  0.98561076, -0.24806947,\n",
       "        -0.87705802],\n",
       "       [ 0.61265611,  0.16631168, -1.15804097,  0.98561076, -0.24806947,\n",
       "        -0.87705802],\n",
       "       [ 0.65476096, -0.71641954,  0.69824857, -1.01459931, -0.24806947,\n",
       "         1.14017543],\n",
       "       [ 0.69686581,  0.16631168, -1.15804097,  0.98561076, -0.24806947,\n",
       "        -0.87705802],\n",
       "       [ 1.70738226,  1.93177411, -0.90491058,  0.98561076, -0.24806947,\n",
       "        -0.87705802],\n",
       "       [ 0.69686581,  1.0490429 , -1.07366418,  0.98561076, -0.24806947,\n",
       "        -0.87705802],\n",
       "       [ 0.78107552,  0.16631168, -0.73615699,  0.98561076, -0.24806947,\n",
       "        -0.87705802],\n",
       "       [ 0.94949493,  0.16631168, -1.24241777,  0.98561076, -0.24806947,\n",
       "        -0.87705802],\n",
       "       [ 0.99159978, -0.71641954, -2.42369294,  0.98561076, -0.24806947,\n",
       "        -0.87705802],\n",
       "       [ 1.03370463,  0.16631168,  0.52949498, -1.01459931, -0.24806947,\n",
       "         1.14017543],\n",
       "       [ 1.20212404,  1.0490429 , -0.56740339,  0.98561076, -0.24806947,\n",
       "        -0.87705802],\n",
       "       [ 1.24422889,  0.16631168, -0.82053378,  0.98561076, -0.24806947,\n",
       "        -0.87705802],\n",
       "       [ 1.28633374,  2.81450533, -0.1455194 ,  0.98561076, -0.24806947,\n",
       "        -0.87705802],\n",
       "       [-0.43996519, -0.71641954,  0.86700217, -1.01459931, -0.24806947,\n",
       "         1.14017543],\n",
       "       [-1.36627194, -0.71641954,  1.03575576, -1.01459931, -0.24806947,\n",
       "         1.14017543],\n",
       "       [ 1.53896285,  1.93177411, -0.73615699,  0.98561076, -0.24806947,\n",
       "        -0.87705802],\n",
       "       [ 1.62317256,  1.93177411, -0.56740339,  0.98561076, -0.24806947,\n",
       "        -0.87705802]])"
      ]
     },
     "execution_count": 30,
     "metadata": {},
     "output_type": "execute_result"
    }
   ],
   "source": [
    "Xs"
   ]
  },
  {
   "cell_type": "code",
   "execution_count": 127,
   "id": "f8498445",
   "metadata": {},
   "outputs": [],
   "source": [
    "from sklearn.model_selection import train_test_split\n",
    "X_train,X_test,Y_train,Y_test=train_test_split(Xs,Y,test_size=0.21,random_state=132)"
   ]
  },
  {
   "cell_type": "code",
   "execution_count": 128,
   "id": "3deb99a7",
   "metadata": {},
   "outputs": [
    {
     "name": "stdout",
     "output_type": "stream",
     "text": [
      "Linear Regression:\n",
      "trainr2_sore: 0.9582\n",
      "K-Nearest Neighbors:\n",
      "trainr2_sore: 0.9449\n",
      "Decision Tree:\n",
      "trainr2_sore: 1.0000\n",
      "Random Forest:\n",
      "trainr2_sore: 0.9765\n",
      "Bagging:\n",
      "trainr2_sore: 0.9917\n",
      "AdaBoost:\n",
      "trainr2_sore: 0.9869\n",
      "Gradient Boosting:\n",
      "trainr2_sore: 0.9998\n",
      "Extra Trees:\n",
      "trainr2_sore: 1.0000\n",
      "TESTING r2_score:\n",
      "Linear Regression:\n",
      "testingAccuracy: 0.9344\n",
      "K-Nearest Neighbors:\n",
      "testingAccuracy: 0.8386\n",
      "Decision Tree:\n",
      "testingAccuracy: 0.8114\n",
      "Random Forest:\n",
      "testingAccuracy: 0.8094\n",
      "Bagging:\n",
      "testingAccuracy: 0.8674\n",
      "AdaBoost:\n",
      "testingAccuracy: 0.8421\n",
      "Gradient Boosting:\n",
      "testingAccuracy: 0.8574\n",
      "Extra Trees:\n",
      "testingAccuracy: 0.6474\n"
     ]
    }
   ],
   "source": [
    "from sklearn.ensemble import RandomForestRegressor\n",
    "from sklearn.ensemble import BaggingRegressor\n",
    "from sklearn.ensemble import GradientBoostingRegressor\n",
    "from sklearn.ensemble import AdaBoostRegressor\n",
    "from sklearn.neighbors import KNeighborsRegressor\n",
    "from sklearn.tree import DecisionTreeRegressor\n",
    "from sklearn.tree import ExtraTreeRegressor\n",
    "from sklearn.linear_model import LinearRegression\n",
    "# create instances of all models\n",
    "models = {\n",
    "    #'Linear Discriminant Analysis': LinearDiscriminantAnalysis(),\n",
    "    'Linear Regression': LinearRegression(),\n",
    "    #'Naive Bayes': GaussianNB(),\n",
    "    #'Support Vector Machine': SVC(),\n",
    "    'K-Nearest Neighbors': KNeighborsRegressor(),\n",
    "    'Decision Tree': DecisionTreeRegressor(),\n",
    "    'Random Forest': RandomForestRegressor(n_estimators=11),\n",
    "    'Bagging': BaggingRegressor(),\n",
    "    'AdaBoost': AdaBoostRegressor(),\n",
    "    'Gradient Boosting': GradientBoostingRegressor(),\n",
    "    'Extra Trees': ExtraTreeRegressor(),\n",
    "    \n",
    "}\n",
    "\n",
    "from sklearn.metrics import r2_score\n",
    "for name, model in models.items():\n",
    "    model.fit(X_train, Y_train)\n",
    "    X_train_prediction = model.predict(X_train)\n",
    "    trainacc = r2_score( Y_train,X_train_prediction)\n",
    "    print(f'{name}:\\ntrainr2_sore: {trainacc:.4f}')\n",
    "#for training data  \n",
    "print(\"TESTING r2_score:\")\n",
    "for name, model in models.items():\n",
    "    model.fit(X_train, Y_train)\n",
    "    y_pred = model.predict(X_test)\n",
    "    testacc = r2_score( Y_test,y_pred)\n",
    "    print(f'{name}:\\ntestingAccuracy: {testacc:.4f}') \n",
    "\n",
    "    "
   ]
  },
  {
   "cell_type": "code",
   "execution_count": 129,
   "id": "27ffa71c",
   "metadata": {},
   "outputs": [],
   "source": [
    "model=LinearRegression()"
   ]
  },
  {
   "cell_type": "code",
   "execution_count": 130,
   "id": "c5e3ecec",
   "metadata": {},
   "outputs": [
    {
     "data": {
      "text/plain": [
       "LinearRegression()"
      ]
     },
     "execution_count": 130,
     "metadata": {},
     "output_type": "execute_result"
    }
   ],
   "source": [
    "model.fit(X_train, Y_train)"
   ]
  },
  {
   "cell_type": "code",
   "execution_count": null,
   "id": "27b83579",
   "metadata": {},
   "outputs": [],
   "source": []
  },
  {
   "cell_type": "code",
   "execution_count": 131,
   "id": "298f3a21",
   "metadata": {},
   "outputs": [],
   "source": [
    "y_pred = model.predict(X_test)\n",
    "testacc = r2_score( Y_test,y_pred)"
   ]
  },
  {
   "cell_type": "code",
   "execution_count": 132,
   "id": "7a983293",
   "metadata": {},
   "outputs": [
    {
     "data": {
      "text/plain": [
       "0.9344327769064233"
      ]
     },
     "execution_count": 132,
     "metadata": {},
     "output_type": "execute_result"
    }
   ],
   "source": [
    "testacc"
   ]
  },
  {
   "cell_type": "code",
   "execution_count": null,
   "id": "3a625dc2",
   "metadata": {},
   "outputs": [],
   "source": []
  },
  {
   "cell_type": "code",
   "execution_count": 133,
   "id": "9e1e9d12",
   "metadata": {},
   "outputs": [],
   "source": [
    "#now i want to compare with the data with the actual value and predicted value\n",
    "#np.set_printoptions(precision=8)\n",
    "#print(np.concatenate((y_pred.reshape(len(y_pred), 1),Y_test.reshape(len(Y_test),1)), 1))"
   ]
  },
  {
   "cell_type": "code",
   "execution_count": 134,
   "id": "601b52fb",
   "metadata": {},
   "outputs": [],
   "source": [
    "#visualizing the data\n",
    "#plt.plot(y_pred)\n",
    "#plt.plot(Y_test)\n",
    "#plt.show()"
   ]
  },
  {
   "cell_type": "code",
   "execution_count": 135,
   "id": "1072ca06",
   "metadata": {
    "scrolled": true
   },
   "outputs": [
    {
     "name": "stderr",
     "output_type": "stream",
     "text": [
      "/Users/pritikumari/opt/anaconda3/lib/python3.9/site-packages/seaborn/distributions.py:2619: FutureWarning: `distplot` is a deprecated function and will be removed in a future version. Please adapt your code to use either `displot` (a figure-level function with similar flexibility) or `kdeplot` (an axes-level function for kernel density plots).\n",
      "  warnings.warn(msg, FutureWarning)\n",
      "/Users/pritikumari/opt/anaconda3/lib/python3.9/site-packages/seaborn/distributions.py:2619: FutureWarning: `distplot` is a deprecated function and will be removed in a future version. Please adapt your code to use either `displot` (a figure-level function with similar flexibility) or `kdeplot` (an axes-level function for kernel density plots).\n",
      "  warnings.warn(msg, FutureWarning)\n"
     ]
    },
    {
     "data": {
      "text/plain": [
       "Text(0.5, 1.0, 'Linear Regression ')"
      ]
     },
     "execution_count": 135,
     "metadata": {},
     "output_type": "execute_result"
    }
   ],
   "source": [
    "ax=sns.distplot(Y_test,hist=False,color=\"r\",label=\"Actual value\")\n",
    "sns.distplot(y_pred,hist=False,color=\"b\",label=\"Predicted value\",ax=ax)\n",
    "plt.title('Linear Regression ')\n"
   ]
  },
  {
   "cell_type": "code",
   "execution_count": 136,
   "id": "388104a1",
   "metadata": {},
   "outputs": [
    {
     "name": "stdout",
     "output_type": "stream",
     "text": [
      "[[0.02380952 0.         0.95652174 0.         0.         1.        ]]\n",
      "[[-1.40837679 -0.71641954  1.28888615 -1.01459931 -0.24806947  1.14017543]]\n",
      "target: [107503.39713646]\n"
     ]
    },
    {
     "name": "stderr",
     "output_type": "stream",
     "text": [
      "/Users/pritikumari/opt/anaconda3/lib/python3.9/site-packages/sklearn/base.py:450: UserWarning: X does not have valid feature names, but MinMaxScaler was fitted with feature names\n",
      "  warnings.warn(\n"
     ]
    }
   ],
   "source": [
    "# making a predictive System for testing the data \n",
    "# making a predictive System\n",
    "input_data=X.loc[4]\n",
    "#changing the input data to a numpy arrary\n",
    "input_data_as_numpy_array=np.asarray(input_data)\n",
    "#reshape the np array s we are predictive for one instance\n",
    "input_data_reshaped=input_data_as_numpy_array.reshape(1,-1)\n",
    "#as i already standarize the data so here for input value we once standarize this\n",
    "sc=scaler.transform(input_data_reshaped)\n",
    "print(sc)\n",
    "std_data=scalers.transform(sc)\n",
    "print(std_data)\n",
    "prediction=model.predict(std_data)#model=Decision Tree\n",
    "print(\"target:\",prediction)\n",
    "#if(prediction==1):\n",
    "#    print(\"The Person is suffering from the depression type : bipolar II\")\n",
    "#elif(prediction==2):\n",
    " #   print(\"The Person is suffering from the depression type :unipolar depressive\")\n",
    "#elif(prediction==3):\n",
    " #   print(\"The Person is suffering from the depression type :bipolar I\")    "
   ]
  },
  {
   "cell_type": "code",
   "execution_count": 126,
   "id": "6964a21e",
   "metadata": {},
   "outputs": [
    {
     "data": {
      "text/html": [
       "<div>\n",
       "<style scoped>\n",
       "    .dataframe tbody tr th:only-of-type {\n",
       "        vertical-align: middle;\n",
       "    }\n",
       "\n",
       "    .dataframe tbody tr th {\n",
       "        vertical-align: top;\n",
       "    }\n",
       "\n",
       "    .dataframe thead th {\n",
       "        text-align: right;\n",
       "    }\n",
       "</style>\n",
       "<table border=\"1\" class=\"dataframe\">\n",
       "  <thead>\n",
       "    <tr style=\"text-align: right;\">\n",
       "      <th></th>\n",
       "      <th>age</th>\n",
       "      <th>Chronic disease</th>\n",
       "      <th>Blood O2 Level in Percentage</th>\n",
       "      <th>Anti Bodies</th>\n",
       "      <th>temperature_High</th>\n",
       "      <th>temperature_Low</th>\n",
       "      <th>temperature_Moderate</th>\n",
       "    </tr>\n",
       "  </thead>\n",
       "  <tbody>\n",
       "    <tr>\n",
       "      <th>0</th>\n",
       "      <td>10</td>\n",
       "      <td>0</td>\n",
       "      <td>97</td>\n",
       "      <td>127181</td>\n",
       "      <td>0</td>\n",
       "      <td>0</td>\n",
       "      <td>1</td>\n",
       "    </tr>\n",
       "    <tr>\n",
       "      <th>1</th>\n",
       "      <td>80</td>\n",
       "      <td>0</td>\n",
       "      <td>92</td>\n",
       "      <td>61004</td>\n",
       "      <td>1</td>\n",
       "      <td>0</td>\n",
       "      <td>0</td>\n",
       "    </tr>\n",
       "    <tr>\n",
       "      <th>2</th>\n",
       "      <td>10</td>\n",
       "      <td>0</td>\n",
       "      <td>97</td>\n",
       "      <td>111911</td>\n",
       "      <td>0</td>\n",
       "      <td>1</td>\n",
       "      <td>0</td>\n",
       "    </tr>\n",
       "    <tr>\n",
       "      <th>3</th>\n",
       "      <td>81</td>\n",
       "      <td>4</td>\n",
       "      <td>75</td>\n",
       "      <td>39010</td>\n",
       "      <td>1</td>\n",
       "      <td>0</td>\n",
       "      <td>0</td>\n",
       "    </tr>\n",
       "    <tr>\n",
       "      <th>4</th>\n",
       "      <td>12</td>\n",
       "      <td>0</td>\n",
       "      <td>97</td>\n",
       "      <td>110911</td>\n",
       "      <td>0</td>\n",
       "      <td>0</td>\n",
       "      <td>1</td>\n",
       "    </tr>\n",
       "    <tr>\n",
       "      <th>...</th>\n",
       "      <td>...</td>\n",
       "      <td>...</td>\n",
       "      <td>...</td>\n",
       "      <td>...</td>\n",
       "      <td>...</td>\n",
       "      <td>...</td>\n",
       "      <td>...</td>\n",
       "    </tr>\n",
       "    <tr>\n",
       "      <th>65</th>\n",
       "      <td>76</td>\n",
       "      <td>4</td>\n",
       "      <td>80</td>\n",
       "      <td>39010</td>\n",
       "      <td>1</td>\n",
       "      <td>0</td>\n",
       "      <td>0</td>\n",
       "    </tr>\n",
       "    <tr>\n",
       "      <th>66</th>\n",
       "      <td>35</td>\n",
       "      <td>0</td>\n",
       "      <td>92</td>\n",
       "      <td>91141</td>\n",
       "      <td>0</td>\n",
       "      <td>0</td>\n",
       "      <td>1</td>\n",
       "    </tr>\n",
       "    <tr>\n",
       "      <th>67</th>\n",
       "      <td>13</td>\n",
       "      <td>0</td>\n",
       "      <td>94</td>\n",
       "      <td>112101</td>\n",
       "      <td>0</td>\n",
       "      <td>0</td>\n",
       "      <td>1</td>\n",
       "    </tr>\n",
       "    <tr>\n",
       "      <th>68</th>\n",
       "      <td>82</td>\n",
       "      <td>3</td>\n",
       "      <td>73</td>\n",
       "      <td>42010</td>\n",
       "      <td>1</td>\n",
       "      <td>0</td>\n",
       "      <td>0</td>\n",
       "    </tr>\n",
       "    <tr>\n",
       "      <th>69</th>\n",
       "      <td>84</td>\n",
       "      <td>3</td>\n",
       "      <td>75</td>\n",
       "      <td>42099</td>\n",
       "      <td>1</td>\n",
       "      <td>0</td>\n",
       "      <td>0</td>\n",
       "    </tr>\n",
       "  </tbody>\n",
       "</table>\n",
       "<p>69 rows × 7 columns</p>\n",
       "</div>"
      ],
      "text/plain": [
       "    age  Chronic disease  Blood O2 Level in Percentage  Anti Bodies  \\\n",
       "0    10                0                            97       127181   \n",
       "1    80                0                            92        61004   \n",
       "2    10                0                            97       111911   \n",
       "3    81                4                            75        39010   \n",
       "4    12                0                            97       110911   \n",
       "..  ...              ...                           ...          ...   \n",
       "65   76                4                            80        39010   \n",
       "66   35                0                            92        91141   \n",
       "67   13                0                            94       112101   \n",
       "68   82                3                            73        42010   \n",
       "69   84                3                            75        42099   \n",
       "\n",
       "    temperature_High  temperature_Low  temperature_Moderate  \n",
       "0                  0                0                     1  \n",
       "1                  1                0                     0  \n",
       "2                  0                1                     0  \n",
       "3                  1                0                     0  \n",
       "4                  0                0                     1  \n",
       "..               ...              ...                   ...  \n",
       "65                 1                0                     0  \n",
       "66                 0                0                     1  \n",
       "67                 0                0                     1  \n",
       "68                 1                0                     0  \n",
       "69                 1                0                     0  \n",
       "\n",
       "[69 rows x 7 columns]"
      ]
     },
     "execution_count": 126,
     "metadata": {},
     "output_type": "execute_result"
    }
   ],
   "source": [
    "kk"
   ]
  },
  {
   "cell_type": "code",
   "execution_count": null,
   "id": "1a035328",
   "metadata": {},
   "outputs": [],
   "source": []
  },
  {
   "cell_type": "code",
   "execution_count": null,
   "id": "3bf8835a",
   "metadata": {},
   "outputs": [],
   "source": []
  }
 ],
 "metadata": {
  "kernelspec": {
   "display_name": "Python 3 (ipykernel)",
   "language": "python",
   "name": "python3"
  },
  "language_info": {
   "codemirror_mode": {
    "name": "ipython",
    "version": 3
   },
   "file_extension": ".py",
   "mimetype": "text/x-python",
   "name": "python",
   "nbconvert_exporter": "python",
   "pygments_lexer": "ipython3",
   "version": "3.9.13"
  }
 },
 "nbformat": 4,
 "nbformat_minor": 5
}
